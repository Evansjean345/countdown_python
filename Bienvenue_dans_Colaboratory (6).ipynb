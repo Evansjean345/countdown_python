{
  "cells": [
    {
      "cell_type": "code",
      "source": [
        "import time \n",
        "  \n",
        "def countdown(t): \n",
        "    \n",
        "    while t: \n",
        "        mins, secs = divmod(t, 60) \n",
        "        timer = '{:02d}:{:02d}'.format(mins, secs) \n",
        "        print(timer, end=\"\\r\") \n",
        "        time.sleep(1) \n",
        "        t -= 1\n",
        "      \n",
        "    print('Fire in the hole!!') \n",
        "  \n",
        "  \n",
        "t = input(\"Enter the time in seconds: \") \n",
        "  \n",
        "countdown(int(t)) "
      ],
      "metadata": {
        "id": "13u5DSYshmnt",
        "outputId": "74c1210b-a3d1-4e06-b0e4-8d3bae48bb9c",
        "colab": {
          "base_uri": "https://localhost:8080/"
        }
      },
      "execution_count": 3,
      "outputs": [
        {
          "output_type": "stream",
          "name": "stdout",
          "text": [
            "Enter the time in seconds: 3\n",
            "Fire in the hole!!\n"
          ]
        }
      ]
    }
  ],
  "metadata": {
    "colab": {
      "collapsed_sections": [],
      "name": "Bienvenue dans Colaboratory",
      "toc_visible": true,
      "provenance": []
    },
    "kernelspec": {
      "display_name": "Python 3",
      "name": "python3"
    }
  },
  "nbformat": 4,
  "nbformat_minor": 0
}